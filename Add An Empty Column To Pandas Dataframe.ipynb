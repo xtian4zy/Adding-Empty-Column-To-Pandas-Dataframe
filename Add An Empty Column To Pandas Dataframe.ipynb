{
 "cells": [
  {
   "cell_type": "markdown",
   "id": "966b0967",
   "metadata": {},
   "source": [
    "## Introduction\n",
    "\n",
    "This notebook explains how to add empty columns to already existing Pandas dataframe. \n",
    "We add empty columns to pandas dataframe as a placeholder to add values at a later point in time.\n",
    "\n",
    "In this example, we will create a sample dataframe and add empty columns using various methods"
   ]
  },
  {
   "cell_type": "markdown",
   "id": "c4c79a87",
   "metadata": {},
   "source": [
    "## Create our sample Dataframe"
   ]
  },
  {
   "cell_type": "code",
   "execution_count": 2,
   "id": "10fb2594",
   "metadata": {},
   "outputs": [
    {
     "data": {
      "text/html": [
       "<div>\n",
       "<style scoped>\n",
       "    .dataframe tbody tr th:only-of-type {\n",
       "        vertical-align: middle;\n",
       "    }\n",
       "\n",
       "    .dataframe tbody tr th {\n",
       "        vertical-align: top;\n",
       "    }\n",
       "\n",
       "    .dataframe thead th {\n",
       "        text-align: right;\n",
       "    }\n",
       "</style>\n",
       "<table border=\"1\" class=\"dataframe\">\n",
       "  <thead>\n",
       "    <tr style=\"text-align: right;\">\n",
       "      <th></th>\n",
       "      <th>State</th>\n",
       "      <th>Capital</th>\n",
       "      <th>Region</th>\n",
       "    </tr>\n",
       "  </thead>\n",
       "  <tbody>\n",
       "    <tr>\n",
       "      <th>0</th>\n",
       "      <td>Edo</td>\n",
       "      <td>Benin City</td>\n",
       "      <td>South South</td>\n",
       "    </tr>\n",
       "    <tr>\n",
       "      <th>1</th>\n",
       "      <td>Lagos</td>\n",
       "      <td>Ikeja</td>\n",
       "      <td>South West</td>\n",
       "    </tr>\n",
       "  </tbody>\n",
       "</table>\n",
       "</div>"
      ],
      "text/plain": [
       "   State     Capital       Region\n",
       "0    Edo  Benin City  South South\n",
       "1  Lagos       Ikeja   South West"
      ]
     },
     "execution_count": 2,
     "metadata": {},
     "output_type": "execute_result"
    }
   ],
   "source": [
    "import pandas as pd\n",
    "\n",
    "data = {'State': ['Edo','Lagos'],\n",
    "        'Capital': ['Benin City','Ikeja'],\n",
    "        'Region': ['South South','South West']}\n",
    "\n",
    "df = pd.DataFrame(data)\n",
    "df"
   ]
  },
  {
   "cell_type": "markdown",
   "id": "58a9fce0",
   "metadata": {},
   "source": [
    "## Methods"
   ]
  },
  {
   "cell_type": "markdown",
   "id": "1ec14344",
   "metadata": {},
   "source": [
    "### 1: Using the = operator and assigning null values to the column."
   ]
  },
  {
   "cell_type": "code",
   "execution_count": 3,
   "id": "9530947e",
   "metadata": {},
   "outputs": [
    {
     "data": {
      "text/html": [
       "<div>\n",
       "<style scoped>\n",
       "    .dataframe tbody tr th:only-of-type {\n",
       "        vertical-align: middle;\n",
       "    }\n",
       "\n",
       "    .dataframe tbody tr th {\n",
       "        vertical-align: top;\n",
       "    }\n",
       "\n",
       "    .dataframe thead th {\n",
       "        text-align: right;\n",
       "    }\n",
       "</style>\n",
       "<table border=\"1\" class=\"dataframe\">\n",
       "  <thead>\n",
       "    <tr style=\"text-align: right;\">\n",
       "      <th></th>\n",
       "      <th>State</th>\n",
       "      <th>Capital</th>\n",
       "      <th>Region</th>\n",
       "      <th>Governor</th>\n",
       "    </tr>\n",
       "  </thead>\n",
       "  <tbody>\n",
       "    <tr>\n",
       "      <th>0</th>\n",
       "      <td>Edo</td>\n",
       "      <td>Benin City</td>\n",
       "      <td>South South</td>\n",
       "      <td></td>\n",
       "    </tr>\n",
       "    <tr>\n",
       "      <th>1</th>\n",
       "      <td>Lagos</td>\n",
       "      <td>Ikeja</td>\n",
       "      <td>South West</td>\n",
       "      <td></td>\n",
       "    </tr>\n",
       "  </tbody>\n",
       "</table>\n",
       "</div>"
      ],
      "text/plain": [
       "   State     Capital       Region Governor\n",
       "0    Edo  Benin City  South South         \n",
       "1  Lagos       Ikeja   South West         "
      ]
     },
     "execution_count": 3,
     "metadata": {},
     "output_type": "execute_result"
    }
   ],
   "source": [
    "df[\"Governor\"] = \" \"\n",
    "\n",
    "df"
   ]
  },
  {
   "cell_type": "markdown",
   "id": "764e2dc4",
   "metadata": {},
   "source": [
    "### 2: Add an empty column with 'nan' values. The 'nan' value equals empty or blank values"
   ]
  },
  {
   "cell_type": "code",
   "execution_count": 4,
   "id": "514dfae4",
   "metadata": {},
   "outputs": [
    {
     "data": {
      "text/html": [
       "<div>\n",
       "<style scoped>\n",
       "    .dataframe tbody tr th:only-of-type {\n",
       "        vertical-align: middle;\n",
       "    }\n",
       "\n",
       "    .dataframe tbody tr th {\n",
       "        vertical-align: top;\n",
       "    }\n",
       "\n",
       "    .dataframe thead th {\n",
       "        text-align: right;\n",
       "    }\n",
       "</style>\n",
       "<table border=\"1\" class=\"dataframe\">\n",
       "  <thead>\n",
       "    <tr style=\"text-align: right;\">\n",
       "      <th></th>\n",
       "      <th>State</th>\n",
       "      <th>Capital</th>\n",
       "      <th>Region</th>\n",
       "      <th>Governor</th>\n",
       "      <th>Deputy Governor</th>\n",
       "    </tr>\n",
       "  </thead>\n",
       "  <tbody>\n",
       "    <tr>\n",
       "      <th>0</th>\n",
       "      <td>Edo</td>\n",
       "      <td>Benin City</td>\n",
       "      <td>South South</td>\n",
       "      <td></td>\n",
       "      <td>NaN</td>\n",
       "    </tr>\n",
       "    <tr>\n",
       "      <th>1</th>\n",
       "      <td>Lagos</td>\n",
       "      <td>Ikeja</td>\n",
       "      <td>South West</td>\n",
       "      <td></td>\n",
       "      <td>NaN</td>\n",
       "    </tr>\n",
       "  </tbody>\n",
       "</table>\n",
       "</div>"
      ],
      "text/plain": [
       "   State     Capital       Region Governor  Deputy Governor\n",
       "0    Edo  Benin City  South South                       NaN\n",
       "1  Lagos       Ikeja   South West                       NaN"
      ]
     },
     "execution_count": 4,
     "metadata": {},
     "output_type": "execute_result"
    }
   ],
   "source": [
    "import numpy as np\n",
    "\n",
    "df[\"Deputy Governor\"] = np.nan\n",
    "\n",
    "df"
   ]
  },
  {
   "cell_type": "markdown",
   "id": "099dea53",
   "metadata": {},
   "source": [
    "### 3: Using None"
   ]
  },
  {
   "cell_type": "code",
   "execution_count": 5,
   "id": "4347bce9",
   "metadata": {},
   "outputs": [
    {
     "data": {
      "text/html": [
       "<div>\n",
       "<style scoped>\n",
       "    .dataframe tbody tr th:only-of-type {\n",
       "        vertical-align: middle;\n",
       "    }\n",
       "\n",
       "    .dataframe tbody tr th {\n",
       "        vertical-align: top;\n",
       "    }\n",
       "\n",
       "    .dataframe thead th {\n",
       "        text-align: right;\n",
       "    }\n",
       "</style>\n",
       "<table border=\"1\" class=\"dataframe\">\n",
       "  <thead>\n",
       "    <tr style=\"text-align: right;\">\n",
       "      <th></th>\n",
       "      <th>State</th>\n",
       "      <th>Capital</th>\n",
       "      <th>Region</th>\n",
       "      <th>Governor</th>\n",
       "      <th>Deputy Governor</th>\n",
       "      <th>LGA</th>\n",
       "    </tr>\n",
       "  </thead>\n",
       "  <tbody>\n",
       "    <tr>\n",
       "      <th>0</th>\n",
       "      <td>Edo</td>\n",
       "      <td>Benin City</td>\n",
       "      <td>South South</td>\n",
       "      <td></td>\n",
       "      <td>NaN</td>\n",
       "      <td>None</td>\n",
       "    </tr>\n",
       "    <tr>\n",
       "      <th>1</th>\n",
       "      <td>Lagos</td>\n",
       "      <td>Ikeja</td>\n",
       "      <td>South West</td>\n",
       "      <td></td>\n",
       "      <td>NaN</td>\n",
       "      <td>None</td>\n",
       "    </tr>\n",
       "  </tbody>\n",
       "</table>\n",
       "</div>"
      ],
      "text/plain": [
       "   State     Capital       Region Governor  Deputy Governor   LGA\n",
       "0    Edo  Benin City  South South                       NaN  None\n",
       "1  Lagos       Ikeja   South West                       NaN  None"
      ]
     },
     "execution_count": 5,
     "metadata": {},
     "output_type": "execute_result"
    }
   ],
   "source": [
    "df[\"LGA\"] = None\n",
    "\n",
    "df"
   ]
  },
  {
   "cell_type": "markdown",
   "id": "1df2a669",
   "metadata": {},
   "source": [
    "### 4: Add Multiple Empty Columns To Pandas Dataframe\n",
    "\n",
    "You can use the reindex() method to add multiple columns."
   ]
  },
  {
   "cell_type": "code",
   "execution_count": 6,
   "id": "b2eafc75",
   "metadata": {},
   "outputs": [
    {
     "data": {
      "text/html": [
       "<div>\n",
       "<style scoped>\n",
       "    .dataframe tbody tr th:only-of-type {\n",
       "        vertical-align: middle;\n",
       "    }\n",
       "\n",
       "    .dataframe tbody tr th {\n",
       "        vertical-align: top;\n",
       "    }\n",
       "\n",
       "    .dataframe thead th {\n",
       "        text-align: right;\n",
       "    }\n",
       "</style>\n",
       "<table border=\"1\" class=\"dataframe\">\n",
       "  <thead>\n",
       "    <tr style=\"text-align: right;\">\n",
       "      <th></th>\n",
       "      <th>State</th>\n",
       "      <th>Capital</th>\n",
       "      <th>Region</th>\n",
       "      <th>Governor</th>\n",
       "      <th>Deputy Governor</th>\n",
       "      <th>LGA</th>\n",
       "      <th>Population</th>\n",
       "      <th>Railway</th>\n",
       "    </tr>\n",
       "  </thead>\n",
       "  <tbody>\n",
       "    <tr>\n",
       "      <th>0</th>\n",
       "      <td>Edo</td>\n",
       "      <td>Benin City</td>\n",
       "      <td>South South</td>\n",
       "      <td></td>\n",
       "      <td>NaN</td>\n",
       "      <td>None</td>\n",
       "      <td>NaN</td>\n",
       "      <td>NaN</td>\n",
       "    </tr>\n",
       "    <tr>\n",
       "      <th>1</th>\n",
       "      <td>Lagos</td>\n",
       "      <td>Ikeja</td>\n",
       "      <td>South West</td>\n",
       "      <td></td>\n",
       "      <td>NaN</td>\n",
       "      <td>None</td>\n",
       "      <td>NaN</td>\n",
       "      <td>NaN</td>\n",
       "    </tr>\n",
       "  </tbody>\n",
       "</table>\n",
       "</div>"
      ],
      "text/plain": [
       "   State     Capital       Region Governor  Deputy Governor   LGA  Population  \\\n",
       "0    Edo  Benin City  South South                       NaN  None         NaN   \n",
       "1  Lagos       Ikeja   South West                       NaN  None         NaN   \n",
       "\n",
       "   Railway  \n",
       "0      NaN  \n",
       "1      NaN  "
      ]
     },
     "execution_count": 6,
     "metadata": {},
     "output_type": "execute_result"
    }
   ],
   "source": [
    "df = df.reindex(columns = df.columns.tolist() + [\"Population\", \"Railway\"])\n",
    "\n",
    "df"
   ]
  },
  {
   "cell_type": "markdown",
   "id": "adb57fc9",
   "metadata": {},
   "source": [
    "### 5: Add Empty Column If Not Already Existing\n",
    "\n",
    "Sometimes, we may need to add an empty column ONLY if there is no existing one in the dataframe."
   ]
  },
  {
   "cell_type": "code",
   "execution_count": 7,
   "id": "21ee6905",
   "metadata": {},
   "outputs": [
    {
     "name": "stdout",
     "output_type": "stream",
     "text": [
      "Governor column already exists in the dataframe\n"
     ]
    },
    {
     "data": {
      "text/html": [
       "<div>\n",
       "<style scoped>\n",
       "    .dataframe tbody tr th:only-of-type {\n",
       "        vertical-align: middle;\n",
       "    }\n",
       "\n",
       "    .dataframe tbody tr th {\n",
       "        vertical-align: top;\n",
       "    }\n",
       "\n",
       "    .dataframe thead th {\n",
       "        text-align: right;\n",
       "    }\n",
       "</style>\n",
       "<table border=\"1\" class=\"dataframe\">\n",
       "  <thead>\n",
       "    <tr style=\"text-align: right;\">\n",
       "      <th></th>\n",
       "      <th>State</th>\n",
       "      <th>Capital</th>\n",
       "      <th>Region</th>\n",
       "      <th>Governor</th>\n",
       "      <th>Deputy Governor</th>\n",
       "      <th>LGA</th>\n",
       "      <th>Population</th>\n",
       "      <th>Railway</th>\n",
       "    </tr>\n",
       "  </thead>\n",
       "  <tbody>\n",
       "    <tr>\n",
       "      <th>0</th>\n",
       "      <td>Edo</td>\n",
       "      <td>Benin City</td>\n",
       "      <td>South South</td>\n",
       "      <td></td>\n",
       "      <td>NaN</td>\n",
       "      <td>None</td>\n",
       "      <td>NaN</td>\n",
       "      <td>NaN</td>\n",
       "    </tr>\n",
       "    <tr>\n",
       "      <th>1</th>\n",
       "      <td>Lagos</td>\n",
       "      <td>Ikeja</td>\n",
       "      <td>South West</td>\n",
       "      <td></td>\n",
       "      <td>NaN</td>\n",
       "      <td>None</td>\n",
       "      <td>NaN</td>\n",
       "      <td>NaN</td>\n",
       "    </tr>\n",
       "  </tbody>\n",
       "</table>\n",
       "</div>"
      ],
      "text/plain": [
       "   State     Capital       Region Governor  Deputy Governor   LGA  Population  \\\n",
       "0    Edo  Benin City  South South                       NaN  None         NaN   \n",
       "1  Lagos       Ikeja   South West                       NaN  None         NaN   \n",
       "\n",
       "   Railway  \n",
       "0      NaN  \n",
       "1      NaN  "
      ]
     },
     "execution_count": 7,
     "metadata": {},
     "output_type": "execute_result"
    }
   ],
   "source": [
    "if 'Governor' not in df.columns:\n",
    "    df[\"Governor\"] = \" \"\n",
    "\n",
    "else:\n",
    "    print(\"Governor column already exists in the dataframe\")\n",
    "\n",
    "\n",
    "df"
   ]
  },
  {
   "cell_type": "code",
   "execution_count": 8,
   "id": "c3755d76",
   "metadata": {},
   "outputs": [
    {
     "data": {
      "text/html": [
       "<div>\n",
       "<style scoped>\n",
       "    .dataframe tbody tr th:only-of-type {\n",
       "        vertical-align: middle;\n",
       "    }\n",
       "\n",
       "    .dataframe tbody tr th {\n",
       "        vertical-align: top;\n",
       "    }\n",
       "\n",
       "    .dataframe thead th {\n",
       "        text-align: right;\n",
       "    }\n",
       "</style>\n",
       "<table border=\"1\" class=\"dataframe\">\n",
       "  <thead>\n",
       "    <tr style=\"text-align: right;\">\n",
       "      <th></th>\n",
       "      <th>State</th>\n",
       "      <th>Capital</th>\n",
       "      <th>Region</th>\n",
       "      <th>Governor</th>\n",
       "      <th>Deputy Governor</th>\n",
       "      <th>LGA</th>\n",
       "      <th>Population</th>\n",
       "      <th>Railway</th>\n",
       "      <th>Revenue</th>\n",
       "    </tr>\n",
       "  </thead>\n",
       "  <tbody>\n",
       "    <tr>\n",
       "      <th>0</th>\n",
       "      <td>Edo</td>\n",
       "      <td>Benin City</td>\n",
       "      <td>South South</td>\n",
       "      <td></td>\n",
       "      <td>NaN</td>\n",
       "      <td>None</td>\n",
       "      <td>NaN</td>\n",
       "      <td>NaN</td>\n",
       "      <td></td>\n",
       "    </tr>\n",
       "    <tr>\n",
       "      <th>1</th>\n",
       "      <td>Lagos</td>\n",
       "      <td>Ikeja</td>\n",
       "      <td>South West</td>\n",
       "      <td></td>\n",
       "      <td>NaN</td>\n",
       "      <td>None</td>\n",
       "      <td>NaN</td>\n",
       "      <td>NaN</td>\n",
       "      <td></td>\n",
       "    </tr>\n",
       "  </tbody>\n",
       "</table>\n",
       "</div>"
      ],
      "text/plain": [
       "   State     Capital       Region Governor  Deputy Governor   LGA  Population  \\\n",
       "0    Edo  Benin City  South South                       NaN  None         NaN   \n",
       "1  Lagos       Ikeja   South West                       NaN  None         NaN   \n",
       "\n",
       "   Railway Revenue  \n",
       "0      NaN          \n",
       "1      NaN          "
      ]
     },
     "execution_count": 8,
     "metadata": {},
     "output_type": "execute_result"
    }
   ],
   "source": [
    "if 'Revenue' not in df.columns:\n",
    "    df[\"Revenue\"] = \" \"\n",
    "\n",
    "else:\n",
    "    print(\"Revenue column already exists in the dataframe\")\n",
    "\n",
    "\n",
    "df"
   ]
  },
  {
   "cell_type": "markdown",
   "id": "475c972e",
   "metadata": {},
   "source": [
    "### 6: Add Empty Column At A Specific Position\n",
    "\n",
    "To add an empty column at a specific position you can use the df.insert() method by passing the index position to the insert method. The empty column will then be added at the specific position and the other columns adjusted to the right. The index is 0 based."
   ]
  },
  {
   "cell_type": "code",
   "execution_count": 9,
   "id": "8ab7cea0",
   "metadata": {},
   "outputs": [
    {
     "data": {
      "text/html": [
       "<div>\n",
       "<style scoped>\n",
       "    .dataframe tbody tr th:only-of-type {\n",
       "        vertical-align: middle;\n",
       "    }\n",
       "\n",
       "    .dataframe tbody tr th {\n",
       "        vertical-align: top;\n",
       "    }\n",
       "\n",
       "    .dataframe thead th {\n",
       "        text-align: right;\n",
       "    }\n",
       "</style>\n",
       "<table border=\"1\" class=\"dataframe\">\n",
       "  <thead>\n",
       "    <tr style=\"text-align: right;\">\n",
       "      <th></th>\n",
       "      <th>State</th>\n",
       "      <th>Capital</th>\n",
       "      <th>Region</th>\n",
       "      <th>Language</th>\n",
       "      <th>Governor</th>\n",
       "      <th>Deputy Governor</th>\n",
       "      <th>LGA</th>\n",
       "      <th>Population</th>\n",
       "      <th>Railway</th>\n",
       "      <th>Revenue</th>\n",
       "    </tr>\n",
       "  </thead>\n",
       "  <tbody>\n",
       "    <tr>\n",
       "      <th>0</th>\n",
       "      <td>Edo</td>\n",
       "      <td>Benin City</td>\n",
       "      <td>South South</td>\n",
       "      <td></td>\n",
       "      <td></td>\n",
       "      <td>NaN</td>\n",
       "      <td>None</td>\n",
       "      <td>NaN</td>\n",
       "      <td>NaN</td>\n",
       "      <td></td>\n",
       "    </tr>\n",
       "    <tr>\n",
       "      <th>1</th>\n",
       "      <td>Lagos</td>\n",
       "      <td>Ikeja</td>\n",
       "      <td>South West</td>\n",
       "      <td></td>\n",
       "      <td></td>\n",
       "      <td>NaN</td>\n",
       "      <td>None</td>\n",
       "      <td>NaN</td>\n",
       "      <td>NaN</td>\n",
       "      <td></td>\n",
       "    </tr>\n",
       "  </tbody>\n",
       "</table>\n",
       "</div>"
      ],
      "text/plain": [
       "   State     Capital       Region Language Governor  Deputy Governor   LGA  \\\n",
       "0    Edo  Benin City  South South                                NaN  None   \n",
       "1  Lagos       Ikeja   South West                                NaN  None   \n",
       "\n",
       "   Population  Railway Revenue  \n",
       "0         NaN      NaN          \n",
       "1         NaN      NaN          "
      ]
     },
     "execution_count": 9,
     "metadata": {},
     "output_type": "execute_result"
    }
   ],
   "source": [
    "df.insert(3,\"Language\", \" \")\n",
    "\n",
    "df"
   ]
  },
  {
   "cell_type": "markdown",
   "id": "d8b3ae3d",
   "metadata": {},
   "source": [
    "The language column is now added after the Region column which is index position 3."
   ]
  },
  {
   "cell_type": "markdown",
   "id": "eb4b02a3",
   "metadata": {},
   "source": [
    "### 7: Add Empty Columns From A List\n",
    "\n",
    "To add empty columns from a list, get the current column names of the dataframe and add to those columns in the list."
   ]
  },
  {
   "cell_type": "code",
   "execution_count": 10,
   "id": "2787053a",
   "metadata": {},
   "outputs": [
    {
     "data": {
      "text/html": [
       "<div>\n",
       "<style scoped>\n",
       "    .dataframe tbody tr th:only-of-type {\n",
       "        vertical-align: middle;\n",
       "    }\n",
       "\n",
       "    .dataframe tbody tr th {\n",
       "        vertical-align: top;\n",
       "    }\n",
       "\n",
       "    .dataframe thead th {\n",
       "        text-align: right;\n",
       "    }\n",
       "</style>\n",
       "<table border=\"1\" class=\"dataframe\">\n",
       "  <thead>\n",
       "    <tr style=\"text-align: right;\">\n",
       "      <th></th>\n",
       "      <th>State</th>\n",
       "      <th>Capital</th>\n",
       "      <th>Region</th>\n",
       "      <th>Language</th>\n",
       "      <th>Governor</th>\n",
       "      <th>Deputy Governor</th>\n",
       "      <th>LGA</th>\n",
       "      <th>Population</th>\n",
       "      <th>Railway</th>\n",
       "      <th>Revenue</th>\n",
       "      <th>Date of Creation</th>\n",
       "      <th>Debt</th>\n",
       "    </tr>\n",
       "  </thead>\n",
       "  <tbody>\n",
       "    <tr>\n",
       "      <th>0</th>\n",
       "      <td>Edo</td>\n",
       "      <td>Benin City</td>\n",
       "      <td>South South</td>\n",
       "      <td></td>\n",
       "      <td></td>\n",
       "      <td>NaN</td>\n",
       "      <td>None</td>\n",
       "      <td>NaN</td>\n",
       "      <td>NaN</td>\n",
       "      <td></td>\n",
       "      <td>NaN</td>\n",
       "      <td>NaN</td>\n",
       "    </tr>\n",
       "    <tr>\n",
       "      <th>1</th>\n",
       "      <td>Lagos</td>\n",
       "      <td>Ikeja</td>\n",
       "      <td>South West</td>\n",
       "      <td></td>\n",
       "      <td></td>\n",
       "      <td>NaN</td>\n",
       "      <td>None</td>\n",
       "      <td>NaN</td>\n",
       "      <td>NaN</td>\n",
       "      <td></td>\n",
       "      <td>NaN</td>\n",
       "      <td>NaN</td>\n",
       "    </tr>\n",
       "  </tbody>\n",
       "</table>\n",
       "</div>"
      ],
      "text/plain": [
       "   State     Capital       Region Language Governor  Deputy Governor   LGA  \\\n",
       "0    Edo  Benin City  South South                                NaN  None   \n",
       "1  Lagos       Ikeja   South West                                NaN  None   \n",
       "\n",
       "   Population  Railway Revenue  Date of Creation  Debt  \n",
       "0         NaN      NaN                       NaN   NaN  \n",
       "1         NaN      NaN                       NaN   NaN  "
      ]
     },
     "execution_count": 10,
     "metadata": {},
     "output_type": "execute_result"
    }
   ],
   "source": [
    "df = df.reindex(columns = df.columns.tolist() + [\"Date of Creation\", \"Debt\"])\n",
    "\n",
    "df"
   ]
  },
  {
   "cell_type": "markdown",
   "id": "44d123a8",
   "metadata": {},
   "source": [
    "## Wrap Up\n",
    "\n",
    "This is how you add empty columns to already existing dataframe. Go head to practice what you have learned. Follow [Data Science Arena](https://twitter.com/xtian4zy) for more practical data science, machine learning, Python, Power BI and Tableau classes "
   ]
  }
 ],
 "metadata": {
  "kernelspec": {
   "display_name": "Python 3",
   "language": "python",
   "name": "python3"
  },
  "language_info": {
   "codemirror_mode": {
    "name": "ipython",
    "version": 3
   },
   "file_extension": ".py",
   "mimetype": "text/x-python",
   "name": "python",
   "nbconvert_exporter": "python",
   "pygments_lexer": "ipython3",
   "version": "3.8.8"
  }
 },
 "nbformat": 4,
 "nbformat_minor": 5
}
